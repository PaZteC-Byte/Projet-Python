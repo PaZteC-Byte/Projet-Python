{
 "cells": [
  {
   "cell_type": "code",
   "execution_count": 83,
   "metadata": {},
   "outputs": [
    {
     "data": {
      "text/html": [
       "<div>\n",
       "<style scoped>\n",
       "    .dataframe tbody tr th:only-of-type {\n",
       "        vertical-align: middle;\n",
       "    }\n",
       "\n",
       "    .dataframe tbody tr th {\n",
       "        vertical-align: top;\n",
       "    }\n",
       "\n",
       "    .dataframe thead th {\n",
       "        text-align: right;\n",
       "    }\n",
       "</style>\n",
       "<table border=\"1\" class=\"dataframe\">\n",
       "  <thead>\n",
       "    <tr style=\"text-align: right;\">\n",
       "      <th></th>\n",
       "      <th>Character</th>\n",
       "      <th>Power_Level</th>\n",
       "      <th>Saga_or_Movie</th>\n",
       "      <th>Dragon_Ball_Series</th>\n",
       "    </tr>\n",
       "  </thead>\n",
       "  <tbody>\n",
       "    <tr>\n",
       "      <th>0</th>\n",
       "      <td>Goku</td>\n",
       "      <td>10</td>\n",
       "      <td>Emperor Pilaf Saga</td>\n",
       "      <td>Dragon Ball</td>\n",
       "    </tr>\n",
       "    <tr>\n",
       "      <th>1</th>\n",
       "      <td>Bulma</td>\n",
       "      <td>1.5</td>\n",
       "      <td>Emperor Pilaf Saga</td>\n",
       "      <td>Dragon Ball</td>\n",
       "    </tr>\n",
       "    <tr>\n",
       "      <th>2</th>\n",
       "      <td>Bear Thief</td>\n",
       "      <td>7</td>\n",
       "      <td>Emperor Pilaf Saga</td>\n",
       "      <td>Dragon Ball</td>\n",
       "    </tr>\n",
       "    <tr>\n",
       "      <th>3</th>\n",
       "      <td>Master Roshi</td>\n",
       "      <td>30</td>\n",
       "      <td>Emperor Pilaf Saga</td>\n",
       "      <td>Dragon Ball</td>\n",
       "    </tr>\n",
       "    <tr>\n",
       "      <th>4</th>\n",
       "      <td>Oolong</td>\n",
       "      <td>5</td>\n",
       "      <td>Emperor Pilaf Saga</td>\n",
       "      <td>Dragon Ball</td>\n",
       "    </tr>\n",
       "    <tr>\n",
       "      <th>...</th>\n",
       "      <td>...</td>\n",
       "      <td>...</td>\n",
       "      <td>...</td>\n",
       "      <td>...</td>\n",
       "    </tr>\n",
       "    <tr>\n",
       "      <th>1239</th>\n",
       "      <td>Goku (MSSJ with SSJG's power)</td>\n",
       "      <td>22,400,000,000,000</td>\n",
       "      <td>Movie 14: Battle of Gods</td>\n",
       "      <td>Dragon Ball Z</td>\n",
       "    </tr>\n",
       "    <tr>\n",
       "      <th>1240</th>\n",
       "      <td>Goku (SSJG)</td>\n",
       "      <td>224,000,000,000,000</td>\n",
       "      <td>Movie 14: Battle of Gods</td>\n",
       "      <td>Dragon Ball Z</td>\n",
       "    </tr>\n",
       "    <tr>\n",
       "      <th>1241</th>\n",
       "      <td>Goku</td>\n",
       "      <td>44,800,000,000</td>\n",
       "      <td>Movie 14: Battle of Gods</td>\n",
       "      <td>Dragon Ball Z</td>\n",
       "    </tr>\n",
       "    <tr>\n",
       "      <th>1242</th>\n",
       "      <td>Beerus (full power, never shown)</td>\n",
       "      <td>896,000,000,000,000</td>\n",
       "      <td>Movie 14: Battle of Gods</td>\n",
       "      <td>Dragon Ball Z</td>\n",
       "    </tr>\n",
       "    <tr>\n",
       "      <th>1243</th>\n",
       "      <td>Whis (full power, never shown)</td>\n",
       "      <td>4,480,000,000,000,000</td>\n",
       "      <td>Movie 14: Battle of Gods</td>\n",
       "      <td>Dragon Ball Z</td>\n",
       "    </tr>\n",
       "  </tbody>\n",
       "</table>\n",
       "<p>1244 rows × 4 columns</p>\n",
       "</div>"
      ],
      "text/plain": [
       "                             Character            Power_Level  \\\n",
       "0                                 Goku                     10   \n",
       "1                                Bulma                    1.5   \n",
       "2                           Bear Thief                      7   \n",
       "3                         Master Roshi                     30   \n",
       "4                               Oolong                      5   \n",
       "...                                ...                    ...   \n",
       "1239     Goku (MSSJ with SSJG's power)     22,400,000,000,000   \n",
       "1240                       Goku (SSJG)    224,000,000,000,000   \n",
       "1241                              Goku         44,800,000,000   \n",
       "1242  Beerus (full power, never shown)    896,000,000,000,000   \n",
       "1243    Whis (full power, never shown)  4,480,000,000,000,000   \n",
       "\n",
       "                 Saga_or_Movie Dragon_Ball_Series  \n",
       "0           Emperor Pilaf Saga        Dragon Ball  \n",
       "1           Emperor Pilaf Saga        Dragon Ball  \n",
       "2           Emperor Pilaf Saga        Dragon Ball  \n",
       "3           Emperor Pilaf Saga        Dragon Ball  \n",
       "4           Emperor Pilaf Saga        Dragon Ball  \n",
       "...                        ...                ...  \n",
       "1239  Movie 14: Battle of Gods      Dragon Ball Z  \n",
       "1240  Movie 14: Battle of Gods      Dragon Ball Z  \n",
       "1241  Movie 14: Battle of Gods      Dragon Ball Z  \n",
       "1242  Movie 14: Battle of Gods      Dragon Ball Z  \n",
       "1243  Movie 14: Battle of Gods      Dragon Ball Z  \n",
       "\n",
       "[1244 rows x 4 columns]"
      ]
     },
     "execution_count": 83,
     "metadata": {},
     "output_type": "execute_result"
    }
   ],
   "source": [
    "import pandas as pd\n",
    "import seaborn as sns\n",
    "import matplotlib.pyplot as plt\n",
    "import numpy as np\n",
    "dbz = pd.read_csv(\"datasets_184338_413287_Dragon_Ball_Data_Set.csv\") \n",
    "dbz\n"
   ]
  },
  {
   "cell_type": "code",
   "execution_count": 84,
   "metadata": {},
   "outputs": [
    {
     "data": {
      "text/plain": [
       "Character             object\n",
       "Power_Level           object\n",
       "Saga_or_Movie         object\n",
       "Dragon_Ball_Series    object\n",
       "dtype: object"
      ]
     },
     "execution_count": 84,
     "metadata": {},
     "output_type": "execute_result"
    }
   ],
   "source": [
    "dbz.dtypes\n"
   ]
  },
  {
   "cell_type": "code",
   "execution_count": 85,
   "metadata": {},
   "outputs": [
    {
     "data": {
      "text/plain": [
       "Character             object\n",
       "Power_Level           object\n",
       "Saga_or_Movie         object\n",
       "Dragon_Ball_Series    object\n",
       "dtype: object"
      ]
     },
     "execution_count": 85,
     "metadata": {},
     "output_type": "execute_result"
    }
   ],
   "source": [
    "dbz.Power_Level = pd.Series(dbz.Power_Level, dtype=\"float\")\n",
    "dbz.dtypes\n",
    "#dbz.to_numeric(dbz.Power_Level, downcast='float')\n"
   ]
  },
  {
   "cell_type": "code",
   "execution_count": 86,
   "metadata": {},
   "outputs": [
    {
     "name": "stdout",
     "output_type": "stream",
     "text": [
      "<class 'pandas.core.frame.DataFrame'>\n",
      "RangeIndex: 1244 entries, 0 to 1243\n",
      "Data columns (total 4 columns):\n",
      " #   Column              Non-Null Count  Dtype \n",
      "---  ------              --------------  ----- \n",
      " 0   Character           1244 non-null   object\n",
      " 1   Power_Level         1244 non-null   object\n",
      " 2   Saga_or_Movie       1244 non-null   object\n",
      " 3   Dragon_Ball_Series  1244 non-null   object\n",
      "dtypes: object(4)\n",
      "memory usage: 39.0+ KB\n"
     ]
    }
   ],
   "source": [
    "dbz.info()"
   ]
  },
  {
   "cell_type": "code",
   "execution_count": null,
   "metadata": {},
   "outputs": [],
   "source": []
  },
  {
   "cell_type": "code",
   "execution_count": 78,
   "metadata": {},
   "outputs": [],
   "source": [
    "#plt.figure()\n",
    "#dbz.plot(x='Saga_or_Movie',y=dbz.max(pow),title='niv max par Arc')\n",
    "#plt.show()"
   ]
  },
  {
   "cell_type": "code",
   "execution_count": null,
   "metadata": {},
   "outputs": [],
   "source": []
  },
  {
   "cell_type": "code",
   "execution_count": null,
   "metadata": {},
   "outputs": [],
   "source": []
  }
 ],
 "metadata": {
  "kernelspec": {
   "display_name": "Python 3",
   "language": "python",
   "name": "python3"
  },
  "language_info": {
   "codemirror_mode": {
    "name": "ipython",
    "version": 3
   },
   "file_extension": ".py",
   "mimetype": "text/x-python",
   "name": "python",
   "nbconvert_exporter": "python",
   "pygments_lexer": "ipython3",
   "version": "3.7.6"
  }
 },
 "nbformat": 4,
 "nbformat_minor": 4
}
